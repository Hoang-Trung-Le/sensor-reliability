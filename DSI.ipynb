{
 "cells": [
  {
   "cell_type": "markdown",
   "metadata": {},
   "source": [
    "# Dempster-Shafer Inference Algorithm"
   ]
  },
  {
   "cell_type": "code",
   "execution_count": 1,
   "metadata": {},
   "outputs": [],
   "source": [
    "from config import *\n",
    "from DS import DempsterShafer\n",
    "from process_data import DataProcessor\n",
    "from datetime import datetime\n",
    "import os\n",
    "import time\n",
    "import pandas as pd\n",
    "import numpy as np\n"
   ]
  },
  {
   "cell_type": "markdown",
   "metadata": {},
   "source": [
    "## Download data"
   ]
  },
  {
   "cell_type": "code",
   "execution_count": 2,
   "metadata": {},
   "outputs": [],
   "source": [
    "\n",
    "csv_file_dir = \"data/20240408/raw\"\n",
    "csv_file_pattern = \"20240408_UTS{}.csv\"  # Replace with the pattern for your file names\n",
    "data_processor = DataProcessor(csv_file_dir, csv_file_pattern, selected_headers)\n",
    "csv_data = data_processor.process_files(start=1, end=5)\n"
   ]
  },
  {
   "cell_type": "markdown",
   "metadata": {},
   "source": [
    "## Process data"
   ]
  },
  {
   "cell_type": "markdown",
   "metadata": {},
   "source": [
    "### Sampling data"
   ]
  },
  {
   "cell_type": "markdown",
   "metadata": {},
   "source": [
    "#### Resample data"
   ]
  },
  {
   "cell_type": "code",
   "execution_count": 3,
   "metadata": {},
   "outputs": [],
   "source": [
    "#\n",
    "filename_pattern = \"20240408_UTS{}\"\n",
    "data_process_day = datetime(2024, 4, 7)\n",
    "resampled_data = {}\n",
    "# Loop through all sensors to process their raw csv data\n",
    "for sensor_order in range(1, num_sensors + 1):\n",
    "    filename = filename_pattern.format(sensor_order)\n",
    "    combined_data = csv_data[filename]\n",
    "    # print(\"Combined Data\", (combined_data))\n",
    "    # Convert the 'UTCDateTime' column to datetime format\n",
    "    combined_data['date_time_utc'] = pd.to_datetime(combined_data['date_time_utc'])\n",
    "\n",
    "    # Set 'UTCDateTime' as the index\n",
    "    combined_data.set_index('date_time_utc', inplace=True)\n",
    "\n",
    "    # Resample data to 2-minute frequency\n",
    "    resampled_values = combined_data[parameter_headers].resample('2min').bfill(limit=1).round(3).fillna(0)\n",
    "    # print(\"Resampled Values\", resampled_values)\n",
    "    # print(combined_data.drop(parameter_headers,axis=1))\n",
    "    concat_data = pd.concat([combined_data.drop(parameter_headers,axis=1).resample('2min').bfill(), resampled_values], axis=1)\n",
    "\n",
    "    # Backward fill other columns\n",
    "    resampled_data[filename] = concat_data\n",
    "    output_folder = os.path.join(\"data\", data_process_day.strftime(\"%Y%m%d\"), \"processed\")\n",
    "    os.makedirs(output_folder, exist_ok=True)\n",
    "    resampled_data[filename].to_csv(os.path.join(output_folder, f\"{filename}\"))\n",
    "\n",
    "    \n",
    "# print(\"Indexes\", indexes)\n",
    "# print(\"\\nA\", resampled_data)\n",
    "# prepared_data = {key[:-4]: resampled_data[key][parameter_headers].values for key in resampled_data}\n"
   ]
  },
  {
   "cell_type": "markdown",
   "metadata": {},
   "source": [
    "#### Sampling data"
   ]
  },
  {
   "cell_type": "code",
   "execution_count": 4,
   "metadata": {},
   "outputs": [],
   "source": [
    "start_time_sampling = convert_to_unix(\"08-04-2024 02:30:00\")\n",
    "end_time_sampling = convert_to_unix(\"08-04-2024 03:30:00\")\n",
    "sampling_data = {}\n",
    "\n",
    "for key, value in resampled_data.items():\n",
    "    sampling_data[key] = value[parameter_headers][\n",
    "        (value[time_header] > start_time_sampling)\n",
    "        & (value[time_header] < end_time_sampling)\n",
    "    ]\n",
    "\n",
    "# print(\"Sampling Data\", sampling_data)\n",
    "first_key = list(sampling_data.keys())[0]\n",
    "first_value = sampling_data[first_key]\n",
    "indexes = first_value.index\n",
    "# print(\"Indexes\", indexes)\n"
   ]
  },
  {
   "cell_type": "markdown",
   "metadata": {},
   "source": [
    "### Feature matrix"
   ]
  },
  {
   "cell_type": "markdown",
   "metadata": {},
   "source": [
    "#### Normal operation"
   ]
  },
  {
   "cell_type": "code",
   "execution_count": 5,
   "metadata": {},
   "outputs": [
    {
     "name": "stdout",
     "output_type": "stream",
     "text": [
      "Feature Matrix Normal [43.         88.87083333  2.87879167  2.435       4.00979167]\n"
     ]
    }
   ],
   "source": [
    "start_time_feat_normal = \"08-04-2024 00:00:00\"\n",
    "end_time_feat_normal = \"08-04-2024 01:00:00\"\n",
    "normal_operation_data = {}\n",
    "for key, value in resampled_data.items():\n",
    "    normal_operation_data[key] = value[parameter_headers][\n",
    "        (value[time_header] > convert_to_unix(start_time_feat_normal))\n",
    "        & (value[time_header] < convert_to_unix(end_time_feat_normal))\n",
    "    ]\n",
    "    # print(normal_operation_data)\n",
    "mean_normal_operation_data = {\n",
    "    key: value.mean(axis=0).to_frame().T for key, value in normal_operation_data.items()\n",
    "}\n",
    "\n",
    "# Concatenate all DataFrames into a single DataFrame\n",
    "concatenated_df = pd.DataFrame()\n",
    "for key, value in mean_normal_operation_data.items():\n",
    "    concatenated_df = pd.concat([concatenated_df, value], ignore_index=True)\n",
    "# print(\"Concatenated Data\", concatenated_df)\n",
    "# Compute the mean for each column\n",
    "mean_concatenated_df = concatenated_df.mean()\n",
    "# print(mean_concatenated_df)\n",
    "feat_mat_normal = mean_concatenated_df.to_numpy()\n",
    "print(\"Feature Matrix Normal\", feat_mat_normal)"
   ]
  },
  {
   "cell_type": "markdown",
   "metadata": {},
   "source": [
    "#### Faulty operation"
   ]
  },
  {
   "cell_type": "code",
   "execution_count": 6,
   "metadata": {},
   "outputs": [
    {
     "name": "stdout",
     "output_type": "stream",
     "text": [
      "First Value                            humidity  temperature  pm1.0_atm  pm2.5_alt  \\\n",
      "date_time_utc                                                            \n",
      "2024-04-07 15:30:00+00:00      28.0        104.0      0.910        1.6   \n",
      "2024-04-07 15:32:00+00:00      26.5        106.0      1.305        1.6   \n",
      "2024-04-07 15:34:00+00:00      25.0        107.0      0.625        1.4   \n",
      "2024-04-07 15:36:00+00:00      25.0        108.0      0.690        1.4   \n",
      "2024-04-07 15:38:00+00:00      24.0        109.0      0.985        1.5   \n",
      "2024-04-07 15:40:00+00:00      23.0        110.0      0.975        1.4   \n",
      "2024-04-07 15:42:00+00:00      22.5        111.0      0.675        1.3   \n",
      "2024-04-07 15:44:00+00:00      22.0        112.0      0.525        1.4   \n",
      "2024-04-07 15:46:00+00:00      21.5        112.5      0.420        1.4   \n",
      "2024-04-07 15:48:00+00:00      21.0        113.0      0.285        1.4   \n",
      "2024-04-07 15:50:00+00:00      22.0        111.0      0.415        1.2   \n",
      "2024-04-07 15:52:00+00:00      24.0        107.0      0.330        1.2   \n",
      "2024-04-07 15:54:00+00:00      27.0        103.5      0.695        1.3   \n",
      "2024-04-07 15:56:00+00:00      29.0         99.5      0.700        1.2   \n",
      "2024-04-07 15:58:00+00:00      32.0         97.0      0.745        1.2   \n",
      "\n",
      "                           pm10.0_atm  \n",
      "date_time_utc                          \n",
      "2024-04-07 15:30:00+00:00       1.385  \n",
      "2024-04-07 15:32:00+00:00       1.700  \n",
      "2024-04-07 15:34:00+00:00       1.355  \n",
      "2024-04-07 15:36:00+00:00       1.300  \n",
      "2024-04-07 15:38:00+00:00       1.790  \n",
      "2024-04-07 15:40:00+00:00       1.335  \n",
      "2024-04-07 15:42:00+00:00       0.870  \n",
      "2024-04-07 15:44:00+00:00       1.350  \n",
      "2024-04-07 15:46:00+00:00       1.010  \n",
      "2024-04-07 15:48:00+00:00       1.100  \n",
      "2024-04-07 15:50:00+00:00       0.775  \n",
      "2024-04-07 15:52:00+00:00       0.845  \n",
      "2024-04-07 15:54:00+00:00       1.050  \n",
      "2024-04-07 15:56:00+00:00       1.065  \n",
      "2024-04-07 15:58:00+00:00       1.325  \n",
      "Feature Matrix Fault [ 24.83333333 107.36666667   0.68533333   1.36666667   1.217     ]\n"
     ]
    }
   ],
   "source": [
    "\n",
    "\n",
    "start_time_feat_fault = \"08-04-2024 01:30:00\"\n",
    "end_time_feat_fault = \"08-04-2024 02:00:00\"\n",
    "fault_operation_data = {}\n",
    "for key, value in resampled_data.items():\n",
    "    fault_operation_data[key] = value[parameter_headers][\n",
    "        (value[time_header] > convert_to_unix(start_time_feat_fault))\n",
    "        & (value[time_header] < convert_to_unix(end_time_feat_fault))\n",
    "    ]\n",
    "    # print(fault_operation_data)\n",
    "first_key = list(fault_operation_data.keys())[0]\n",
    "first_value = fault_operation_data[first_key]\n",
    "print(\"First Value\", first_value)\n",
    "average_value = first_value.mean(axis=0).to_numpy()\n",
    "\n",
    "feat_mat_fault_heat = average_value\n",
    "print(\"Feature Matrix Fault\", feat_mat_fault_heat)\n"
   ]
  },
  {
   "cell_type": "code",
   "execution_count": 7,
   "metadata": {},
   "outputs": [],
   "source": [
    "# Loss of communication\n",
    "feat_mat_fault_com = np.zeros((1, len(parameter_headers)))\n"
   ]
  },
  {
   "cell_type": "markdown",
   "metadata": {},
   "source": [
    "### Final feature matrix"
   ]
  },
  {
   "cell_type": "code",
   "execution_count": 8,
   "metadata": {},
   "outputs": [
    {
     "name": "stdout",
     "output_type": "stream",
     "text": [
      "Feature matrix:  [[ 43.          88.87083333   2.87879167   2.435        4.00979167]\n",
      " [ 24.83333333 107.36666667   0.68533333   1.36666667   1.217     ]]\n",
      "Shape of Feature matrix:  2\n"
     ]
    }
   ],
   "source": [
    "feat_mat = np.vstack(\n",
    "    [\n",
    "        feat_mat_normal,\n",
    "        feat_mat_fault_heat,\n",
    "        # feat_mat_fault_com,\n",
    "    ]\n",
    ")\n",
    "print(\"Feature matrix: \", feat_mat)\n",
    "print(\"Shape of Feature matrix: \", feat_mat.shape[0])"
   ]
  },
  {
   "cell_type": "markdown",
   "metadata": {},
   "source": [
    "## DSI"
   ]
  },
  {
   "cell_type": "markdown",
   "metadata": {},
   "source": [
    "### Initialization"
   ]
  },
  {
   "cell_type": "code",
   "execution_count": 9,
   "metadata": {},
   "outputs": [
    {
     "name": "stdout",
     "output_type": "stream",
     "text": [
      "['N0', 'F_H', 'F_X']\n"
     ]
    }
   ],
   "source": [
    "\n",
    "\n",
    "DSI_hypotheses = [\n",
    "    hypotheses[\"Normal\"][\"Average Normal\"],\n",
    "    hypotheses[\"Overheat\"][\"Overheat\"],\n",
    "    hypotheses[\"Uncertain\"]\n",
    "]\n",
    "\n",
    "sampling_freq = [1]\n",
    "print(DSI_hypotheses)\n"
   ]
  },
  {
   "cell_type": "markdown",
   "metadata": {},
   "source": [
    "### Execution"
   ]
  },
  {
   "cell_type": "code",
   "execution_count": 10,
   "metadata": {},
   "outputs": [
    {
     "name": "stdout",
     "output_type": "stream",
     "text": [
      "Sampling Matrix [[41.5   88.5    2.095  1.8    2.74 ]]\n",
      "Sampling Matrix [[42.    88.5    1.755  1.7    2.385]]\n",
      "Sampling Matrix [[41.5  88.5   1.83  1.6   2.12]]\n",
      "Sampling Matrix [[41.5  88.5   1.46  1.6   2.2 ]]\n",
      "Sampling Matrix [[42.    88.5    1.705  1.5    2.155]]\n",
      "Sampling Matrix [[42.    88.5    1.595  1.8    2.11 ]]\n",
      "Sampling Matrix [[42.    88.5    1.72   1.6    2.115]]\n",
      "Sampling Matrix [[42.    88.5    1.47   1.7    2.185]]\n",
      "Sampling Matrix [[38.5   93.     0.82   1.6    1.635]]\n",
      "Sampling Matrix [[0. 0. 0. 0. 0.]]\n",
      "Sampling Matrix [[34.5   96.     0.725  1.4    1.275]]\n",
      "Sampling Matrix [[32.    99.     0.945  1.5    1.395]]\n",
      "Sampling Matrix [[ 30.    101.      0.74    1.4     1.175]]\n",
      "Sampling Matrix [[ 28.    103.      0.765   1.4     1.22 ]]\n",
      "Sampling Matrix [[ 27.    104.      0.67    1.3     1.075]]\n",
      "Sampling Matrix [[ 25.5   106.      0.495   1.4     1.195]]\n",
      "Sampling Matrix [[ 24.    108.      0.515   1.3     0.945]]\n",
      "Sampling Matrix [[ 23.    109.5     0.66    1.4     1.125]]\n",
      "Sampling Matrix [[ 22.    111.      0.405   1.3     0.915]]\n",
      "Sampling Matrix [[2.15e+01 1.12e+02 6.50e-02 1.10e+00 5.75e-01]]\n",
      "Sampling Matrix [[ 20.5   113.      0.245   1.2     0.475]]\n",
      "Sampling Matrix [[ 20.    111.5     0.125   1.1     0.4  ]]\n",
      "Sampling Matrix [[ 22.5   107.5     0.57    1.3     1.195]]\n",
      "Sampling Matrix [[ 24.    104.5     0.885   1.2     0.985]]\n",
      "Sampling Matrix [[ 26.    103.      0.565   1.2     1.14 ]]\n",
      "Sampling Matrix [[29.   99.5   0.56  1.1   0.94]]\n",
      "Sampling Matrix [[31.5   96.5    0.85   1.3    1.495]]\n",
      "Sampling Matrix [[34.   93.5   0.89  1.3   1.4 ]]\n",
      "Sampling Matrix [[36.5  91.5   1.13  1.3   1.55]]\n",
      "Sampling Matrix [[38.5  90.    1.36  1.2   1.68]]\n",
      "20240408_UTS1_1           N0       F_H       F_X\n",
      "0   0.569915  0.073536  0.356550\n",
      "1   0.593200  0.089006  0.317793\n",
      "2   0.486096  0.104079  0.409825\n",
      "3   0.465759  0.109259  0.424982\n",
      "4   0.516559  0.123536  0.359904\n",
      "5   0.582847  0.092724  0.324430\n",
      "6   0.536491  0.103386  0.360123\n",
      "7   0.552328  0.099109  0.348563\n",
      "8   0.058259  0.131313  0.810429\n",
      "9   0.018883  0.039612  0.941505\n",
      "10  0.031363  0.840626  0.128011\n",
      "11  0.057565  0.310943  0.631491\n",
      "12  0.021657  0.818802  0.159541\n",
      "13  0.004855  0.931230  0.063916\n",
      "14  0.016088  0.575995  0.407917\n",
      "15  0.007208  0.285218  0.707574\n",
      "16  0.003730  0.070784  0.925486\n",
      "17  0.009475  0.321858  0.668667\n",
      "18  0.007489  0.073598  0.918913\n",
      "19  0.001525  0.008017  0.990457\n",
      "20  0.003864  0.021241  0.974895\n",
      "21  0.000564  0.002769  0.996667\n",
      "22  0.008074  0.527094  0.464831\n",
      "23  0.012402  0.143774  0.843823\n",
      "24  0.024149  0.404113  0.571738\n",
      "25  0.046823  0.328137  0.625041\n",
      "26  0.062673  0.401679  0.535648\n",
      "27  0.075081  0.372685  0.552233\n",
      "28  0.080995  0.193889  0.725117\n",
      "29  0.125431  0.116394  0.758175\n"
     ]
    }
   ],
   "source": [
    "from itertools import islice\n",
    "\n",
    "\n",
    "DSI_results = {}\n",
    "\n",
    "for sensor, data in islice(sampling_data.items(), 1):\n",
    "    # print(\"AA\", sensor)\n",
    "    # print(data)\n",
    "    for freq in sampling_freq:\n",
    "        DSI_results[f\"{sensor}_{freq}\"] = pd.DataFrame()  # Adjusted to include freq in key\n",
    "        for i in range(0, len(data), freq):\n",
    "            if i + freq > len(data):  # Check to avoid index out of range\n",
    "                break\n",
    "            sampling_rows = data[i:i+freq]  # Select the desired number of rows based on freq\n",
    "            # sampling_mat = sampling_rows.reshape((freq, len(parameter_headers)))  # Adjust reshape according to freq\n",
    "            sampling_mat = sampling_rows.to_numpy()\n",
    "            print(\"Sampling Matrix\", sampling_mat)\n",
    "            ds = DempsterShafer(sampling_mat, feat_mat)\n",
    "            ds.hypothesis_order(DSI_hypotheses)\n",
    "            reliability = ds.result()\n",
    "            \n",
    "            # Concatenate the reliability results for the current freq to its DataFrame\n",
    "            DSI_results[f\"{sensor}_{freq}\"] = pd.concat([DSI_results[f\"{sensor}_{freq}\"], reliability], axis=0, ignore_index=True)\n",
    "\n",
    "# print(\"AB\", DSI_results['20240316_UTS1'])\n",
    "first_key = list(DSI_results.keys())[0]\n",
    "first_value = DSI_results[first_key]\n",
    "print(first_key, first_value)\n",
    "\n"
   ]
  },
  {
   "cell_type": "markdown",
   "metadata": {},
   "source": [
    "# Result visualization"
   ]
  },
  {
   "cell_type": "code",
   "execution_count": 11,
   "metadata": {},
   "outputs": [],
   "source": [
    "import matplotlib.pyplot as plt\n",
    "import matplotlib.dates as mdates\n",
    "import seaborn as sns\n",
    "from utilities.plot_functions import *\n"
   ]
  },
  {
   "cell_type": "markdown",
   "metadata": {},
   "source": [
    "## Prepare result"
   ]
  },
  {
   "cell_type": "code",
   "execution_count": 12,
   "metadata": {},
   "outputs": [],
   "source": [
    "\n",
    "\n",
    "# Prepare data for normal operation reliability plot\n",
    "# reliability_comparison = pd.DataFrame() \n",
    "# print(reliability_comparison)\n",
    "# for i, (sensor, data) in enumerate(DSI_results.items()):\n",
    "#     print(\"AA\", sensor)\n",
    "#     reliability_comparison = pd.concat([reliability_comparison, data.iloc[:, 0]], axis=1)\n",
    "#     reliability_comparison = reliability_comparison.rename(columns={reliability_comparison.columns[-1]: f'S{i+1}'})\n",
    "\n",
    "# reliability_comparison = reliability_comparison.set_index(indexes[0])\n",
    "# reliability_comparison['Highest Reliability'] = reliability_comparison.idxmax(axis=1)\n",
    "# print(reliability_comparison)\n"
   ]
  },
  {
   "cell_type": "markdown",
   "metadata": {},
   "source": [
    "## Reliability probability"
   ]
  },
  {
   "cell_type": "markdown",
   "metadata": {},
   "source": [
    "### Initialization"
   ]
  },
  {
   "cell_type": "code",
   "execution_count": 13,
   "metadata": {},
   "outputs": [],
   "source": [
    "\n",
    "\n",
    "sensor_colors = {\"S1\": \"blue\", \"S2\": \"orange\", \"S3\": \"green\", \"S4\": \"red\"}\n",
    "# Define a color palette with 7 colors\n",
    "colors = sns.color_palette(\"Spectral\", n_colors=7)\n"
   ]
  },
  {
   "cell_type": "markdown",
   "metadata": {},
   "source": [
    "#### Stacked plot for probability assignment"
   ]
  },
  {
   "cell_type": "code",
   "execution_count": 15,
   "metadata": {},
   "outputs": [
    {
     "name": "stdout",
     "output_type": "stream",
     "text": [
      "20240408_UTS1_1\n",
      "{'20240408_UTS1_1':           N0       F_H       F_X\n",
      "0   0.569915  0.073536  0.356550\n",
      "1   0.593200  0.089006  0.317793\n",
      "2   0.486096  0.104079  0.409825\n",
      "3   0.465759  0.109259  0.424982\n",
      "4   0.516559  0.123536  0.359904\n",
      "5   0.582847  0.092724  0.324430\n",
      "6   0.536491  0.103386  0.360123\n",
      "7   0.552328  0.099109  0.348563\n",
      "8   0.058259  0.131313  0.810429\n",
      "9   0.018883  0.039612  0.941505\n",
      "10  0.031363  0.840626  0.128011\n",
      "11  0.057565  0.310943  0.631491\n",
      "12  0.021657  0.818802  0.159541\n",
      "13  0.004855  0.931230  0.063916\n",
      "14  0.016088  0.575995  0.407917\n",
      "15  0.007208  0.285218  0.707574\n",
      "16  0.003730  0.070784  0.925486\n",
      "17  0.009475  0.321858  0.668667\n",
      "18  0.007489  0.073598  0.918913\n",
      "19  0.001525  0.008017  0.990457\n",
      "20  0.003864  0.021241  0.974895\n",
      "21  0.000564  0.002769  0.996667\n",
      "22  0.008074  0.527094  0.464831\n",
      "23  0.012402  0.143774  0.843823\n",
      "24  0.024149  0.404113  0.571738\n",
      "25  0.046823  0.328137  0.625041\n",
      "26  0.062673  0.401679  0.535648\n",
      "27  0.075081  0.372685  0.552233\n",
      "28  0.080995  0.193889  0.725117\n",
      "29  0.125431  0.116394  0.758175}\n"
     ]
    },
    {
     "name": "stderr",
     "output_type": "stream",
     "text": [
      "C:\\Users\\13993807_admin\\AppData\\Local\\Temp\\ipykernel_14928\\2830787524.py:13: UserWarning: FigureCanvasAgg is non-interactive, and thus cannot be shown\n",
      "  fig.show()\n"
     ]
    },
    {
     "data": {
      "image/png": "[encoded data removed]",
      "text/plain": [
       "<Figure size 800x600 with 1 Axes>"
      ]
     },
     "metadata": {},
     "output_type": "display_data"
    }
   ],
   "source": [
    "# Create subplots\n",
    "fig, ax = plot_stacked_area_chart(DSI_results, indexes, colors, time_locator=10)\n",
    "legend = ax.legend(\n",
    "    loc=\"center\",\n",
    "    bbox_to_anchor=(0.5, -0.12),\n",
    "    title=\"Hypotheses\",\n",
    "    ncols=len(DSI_hypotheses),\n",
    ")\n",
    "# Remove spaces between subplots\n",
    "# plt.subplots_adjust(hspace=0.2)\n",
    "\n",
    "# Show the plot\n",
    "fig.show()\n",
    "fig.savefig(\n",
    "    \"fig/Faults/Individual/S1/DSI_results_heat.png\",\n",
    "    bbox_extra_artists=(legend,),\n",
    "    bbox_inches=\"tight\",\n",
    ")"
   ]
  },
  {
   "cell_type": "markdown",
   "metadata": {},
   "source": [
    "#### Line graph for normal operation probability"
   ]
  },
  {
   "cell_type": "code",
   "execution_count": 17,
   "metadata": {},
   "outputs": [
    {
     "name": "stdout",
     "output_type": "stream",
     "text": [
      "Empty DataFrame\n",
      "Columns: []\n",
      "Index: []\n",
      "AA 20240408_UTS1_1\n"
     ]
    },
    {
     "ename": "KeyError",
     "evalue": "\"None of [Timestamp('2024-04-07 16:30:00+0000', tz='UTC')] are in the columns\"",
     "output_type": "error",
     "traceback": [
      "\u001b[1;31m---------------------------------------------------------------------------\u001b[0m",
      "\u001b[1;31mKeyError\u001b[0m                                  Traceback (most recent call last)",
      "\u001b[1;32m~\\AppData\\Local\\Temp\\ipykernel_14928\\4212168403.py\u001b[0m in \u001b[0;36m?\u001b[1;34m()\u001b[0m\n\u001b[1;32m----> 9\u001b[1;33m \u001b[1;31m# Prepare data for normal operation reliability plot\u001b[0m\u001b[1;33m\u001b[0m\u001b[1;33m\u001b[0m\u001b[0m\n\u001b[0m\u001b[0;32m     10\u001b[0m \u001b[0mreliability_comparison\u001b[0m \u001b[1;33m=\u001b[0m \u001b[0mpd\u001b[0m\u001b[1;33m.\u001b[0m\u001b[0mDataFrame\u001b[0m\u001b[1;33m(\u001b[0m\u001b[1;33m)\u001b[0m\u001b[1;33m\u001b[0m\u001b[1;33m\u001b[0m\u001b[0m\n\u001b[0;32m     11\u001b[0m \u001b[0mprint\u001b[0m\u001b[1;33m(\u001b[0m\u001b[0mreliability_comparison\u001b[0m\u001b[1;33m)\u001b[0m\u001b[1;33m\u001b[0m\u001b[1;33m\u001b[0m\u001b[0m\n\u001b[0;32m     12\u001b[0m \u001b[1;32mfor\u001b[0m \u001b[0mi\u001b[0m\u001b[1;33m,\u001b[0m \u001b[1;33m(\u001b[0m\u001b[0msensor\u001b[0m\u001b[1;33m,\u001b[0m \u001b[0mdata\u001b[0m\u001b[1;33m)\u001b[0m \u001b[1;32min\u001b[0m \u001b[0menumerate\u001b[0m\u001b[1;33m(\u001b[0m\u001b[0mDSI_results\u001b[0m\u001b[1;33m.\u001b[0m\u001b[0mitems\u001b[0m\u001b[1;33m(\u001b[0m\u001b[1;33m)\u001b[0m\u001b[1;33m)\u001b[0m\u001b[1;33m:\u001b[0m\u001b[1;33m\u001b[0m\u001b[1;33m\u001b[0m\u001b[0m\n",
      "\u001b[1;32m~\\AppData\\Roaming\\Python\\Python39\\site-packages\\pandas\\core\\frame.py\u001b[0m in \u001b[0;36m?\u001b[1;34m(self, keys, drop, append, inplace, verify_integrity)\u001b[0m\n\u001b[0;32m   6105\u001b[0m                     \u001b[1;32mif\u001b[0m \u001b[1;32mnot\u001b[0m \u001b[0mfound\u001b[0m\u001b[1;33m:\u001b[0m\u001b[1;33m\u001b[0m\u001b[1;33m\u001b[0m\u001b[0m\n\u001b[0;32m   6106\u001b[0m                         \u001b[0mmissing\u001b[0m\u001b[1;33m.\u001b[0m\u001b[0mappend\u001b[0m\u001b[1;33m(\u001b[0m\u001b[0mcol\u001b[0m\u001b[1;33m)\u001b[0m\u001b[1;33m\u001b[0m\u001b[1;33m\u001b[0m\u001b[0m\n\u001b[0;32m   6107\u001b[0m \u001b[1;33m\u001b[0m\u001b[0m\n\u001b[0;32m   6108\u001b[0m         \u001b[1;32mif\u001b[0m \u001b[0mmissing\u001b[0m\u001b[1;33m:\u001b[0m\u001b[1;33m\u001b[0m\u001b[1;33m\u001b[0m\u001b[0m\n\u001b[1;32m-> 6109\u001b[1;33m             \u001b[1;32mraise\u001b[0m \u001b[0mKeyError\u001b[0m\u001b[1;33m(\u001b[0m\u001b[1;34mf\"None of {missing} are in the columns\"\u001b[0m\u001b[1;33m)\u001b[0m\u001b[1;33m\u001b[0m\u001b[1;33m\u001b[0m\u001b[0m\n\u001b[0m\u001b[0;32m   6110\u001b[0m \u001b[1;33m\u001b[0m\u001b[0m\n\u001b[0;32m   6111\u001b[0m         \u001b[1;32mif\u001b[0m \u001b[0minplace\u001b[0m\u001b[1;33m:\u001b[0m\u001b[1;33m\u001b[0m\u001b[1;33m\u001b[0m\u001b[0m\n\u001b[0;32m   6112\u001b[0m             \u001b[0mframe\u001b[0m \u001b[1;33m=\u001b[0m \u001b[0mself\u001b[0m\u001b[1;33m\u001b[0m\u001b[1;33m\u001b[0m\u001b[0m\n",
      "\u001b[1;31mKeyError\u001b[0m: \"None of [Timestamp('2024-04-07 16:30:00+0000', tz='UTC')] are in the columns\""
     ]
    }
   ],
   "source": [
    "\n",
    "# Prepare data for normal operation reliability plot\n",
    "reliability_comparison = pd.DataFrame() \n",
    "print(reliability_comparison)\n",
    "for i, (sensor, data) in enumerate(DSI_results.items()):\n",
    "    print(\"AA\", sensor)\n",
    "    reliability_comparison = pd.concat([reliability_comparison, data.iloc[:, 0]], axis=1)\n",
    "    reliability_comparison = reliability_comparison.rename(columns={reliability_comparison.columns[-1]: f'S{i+1}'})\n",
    "\n",
    "reliability_comparison = reliability_comparison.set_index(indexes[0])\n",
    "reliability_comparison['Highest Reliability'] = reliability_comparison.idxmax(axis=1)\n",
    "print(reliability_comparison)\n"
   ]
  },
  {
   "cell_type": "code",
   "execution_count": 16,
   "metadata": {},
   "outputs": [
    {
     "ename": "NameError",
     "evalue": "name 'reliability_comparison' is not defined",
     "output_type": "error",
     "traceback": [
      "\u001b[1;31m---------------------------------------------------------------------------\u001b[0m",
      "\u001b[1;31mNameError\u001b[0m                                 Traceback (most recent call last)",
      "\u001b[1;32mc:\\Users\\13993807_admin\\OneDrive - UTS\\HDR\\Papers\\Dependability\\Coding\\sensor-reliability\\DSI.ipynb Cell 35\u001b[0m line \u001b[0;36m3\n\u001b[0;32m      <a href='vscode-notebook-cell:/c%3A/Users/13993807_admin/OneDrive%20-%20UTS/HDR/Papers/Dependability/Coding/sensor-reliability/DSI.ipynb#X46sZmlsZQ%3D%3D?line=0'>1</a>\u001b[0m \u001b[39m# Plot the reliability comparison\u001b[39;00m\n\u001b[0;32m      <a href='vscode-notebook-cell:/c%3A/Users/13993807_admin/OneDrive%20-%20UTS/HDR/Papers/Dependability/Coding/sensor-reliability/DSI.ipynb#X46sZmlsZQ%3D%3D?line=1'>2</a>\u001b[0m fig, ax \u001b[39m=\u001b[39m plot_line_graph_df(\n\u001b[1;32m----> <a href='vscode-notebook-cell:/c%3A/Users/13993807_admin/OneDrive%20-%20UTS/HDR/Papers/Dependability/Coding/sensor-reliability/DSI.ipynb#X46sZmlsZQ%3D%3D?line=2'>3</a>\u001b[0m     reliability_comparison,\n\u001b[0;32m      <a href='vscode-notebook-cell:/c%3A/Users/13993807_admin/OneDrive%20-%20UTS/HDR/Papers/Dependability/Coding/sensor-reliability/DSI.ipynb#X46sZmlsZQ%3D%3D?line=3'>4</a>\u001b[0m     y_columns\u001b[39m=\u001b[39mreliability_comparison\u001b[39m.\u001b[39mcolumns[:\u001b[39m-\u001b[39m\u001b[39m1\u001b[39m],\n\u001b[0;32m      <a href='vscode-notebook-cell:/c%3A/Users/13993807_admin/OneDrive%20-%20UTS/HDR/Papers/Dependability/Coding/sensor-reliability/DSI.ipynb#X46sZmlsZQ%3D%3D?line=4'>5</a>\u001b[0m     title\u001b[39m=\u001b[39m\u001b[39m\"\u001b[39m\u001b[39mReliability Comparison\u001b[39m\u001b[39m\"\u001b[39m,\n\u001b[0;32m      <a href='vscode-notebook-cell:/c%3A/Users/13993807_admin/OneDrive%20-%20UTS/HDR/Papers/Dependability/Coding/sensor-reliability/DSI.ipynb#X46sZmlsZQ%3D%3D?line=5'>6</a>\u001b[0m     xlabel\u001b[39m=\u001b[39m\u001b[39m\"\u001b[39m\u001b[39mTime\u001b[39m\u001b[39m\"\u001b[39m,\n\u001b[0;32m      <a href='vscode-notebook-cell:/c%3A/Users/13993807_admin/OneDrive%20-%20UTS/HDR/Papers/Dependability/Coding/sensor-reliability/DSI.ipynb#X46sZmlsZQ%3D%3D?line=6'>7</a>\u001b[0m     ylabel\u001b[39m=\u001b[39m\u001b[39m\"\u001b[39m\u001b[39mReliability\u001b[39m\u001b[39m\"\u001b[39m,\n\u001b[0;32m      <a href='vscode-notebook-cell:/c%3A/Users/13993807_admin/OneDrive%20-%20UTS/HDR/Papers/Dependability/Coding/sensor-reliability/DSI.ipynb#X46sZmlsZQ%3D%3D?line=7'>8</a>\u001b[0m     color\u001b[39m=\u001b[39m\u001b[39mlist\u001b[39m(sensor_colors\u001b[39m.\u001b[39mvalues()),\n\u001b[0;32m      <a href='vscode-notebook-cell:/c%3A/Users/13993807_admin/OneDrive%20-%20UTS/HDR/Papers/Dependability/Coding/sensor-reliability/DSI.ipynb#X46sZmlsZQ%3D%3D?line=8'>9</a>\u001b[0m )\n\u001b[0;32m     <a href='vscode-notebook-cell:/c%3A/Users/13993807_admin/OneDrive%20-%20UTS/HDR/Papers/Dependability/Coding/sensor-reliability/DSI.ipynb#X46sZmlsZQ%3D%3D?line=9'>10</a>\u001b[0m \u001b[39m# Modify the title using the Axes object\u001b[39;00m\n\u001b[0;32m     <a href='vscode-notebook-cell:/c%3A/Users/13993807_admin/OneDrive%20-%20UTS/HDR/Papers/Dependability/Coding/sensor-reliability/DSI.ipynb#X46sZmlsZQ%3D%3D?line=10'>11</a>\u001b[0m ax\u001b[39m.\u001b[39mset_title(\u001b[39m\"\u001b[39m\u001b[39mProbability of normal operation in dependable system\u001b[39m\u001b[39m\"\u001b[39m)\n",
      "\u001b[1;31mNameError\u001b[0m: name 'reliability_comparison' is not defined"
     ]
    }
   ],
   "source": [
    "# Plot the reliability comparison\n",
    "fig, ax = plot_line_graph_df(\n",
    "    reliability_comparison,\n",
    "    y_columns=reliability_comparison.columns[:-1],\n",
    "    title=\"Reliability Comparison\",\n",
    "    xlabel=\"Time\",\n",
    "    ylabel=\"Reliability\",\n",
    "    color=list(sensor_colors.values()),\n",
    ")\n",
    "# Modify the title using the Axes object\n",
    "ax.set_title(\"Probability of normal operation in dependable system\")\n",
    "ax.legend(loc=\"upper right\", ncol=1)\n",
    "fig.show()\n",
    "fig.savefig(\"fig/modified_figure.png\")"
   ]
  },
  {
   "cell_type": "markdown",
   "metadata": {},
   "source": [
    "#### Line graph for continuous data flow"
   ]
  },
  {
   "cell_type": "code",
   "execution_count": null,
   "metadata": {},
   "outputs": [],
   "source": [
    "# Prepare data for continuous data flow\n"
   ]
  },
  {
   "cell_type": "code",
   "execution_count": null,
   "metadata": {},
   "outputs": [],
   "source": [
    "\n",
    "\n",
    "contData = pd.DataFrame()\n",
    "\n",
    "figContinuos, axContinuos = plot_line_graph_df(\n",
    "    contData,\n",
    "    y_columns=contData.columns[:-1],\n",
    "    title=\"Reliability Comparison\",\n",
    "    xlabel=\"Time\",\n",
    "    ylabel=\"Reliability\",\n",
    "    color=list(sensor_colors.values()),\n",
    ")\n",
    "# Modify the title using the Axes object\n",
    "ax.set_title(\"Probability of normal operation in dependable system\")\n",
    "ax.legend(loc=\"upper right\", ncol=1)\n",
    "fig.show()\n",
    "fig.savefig(\"fig/DSI_continuous_data.png\")\n",
    "\n"
   ]
  }
 ],
 "metadata": {
  "kernelspec": {
   "display_name": "Python 3",
   "language": "python",
   "name": "python3"
  },
  "language_info": {
   "codemirror_mode": {
    "name": "ipython",
    "version": 3
   },
   "file_extension": ".py",
   "mimetype": "text/x-python",
   "name": "python",
   "nbconvert_exporter": "python",
   "pygments_lexer": "ipython3",
   "version": "3.9.12"
  }
 },
 "nbformat": 4,
 "nbformat_minor": 2
}
