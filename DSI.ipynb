{
 "cells": [
  {
   "cell_type": "markdown",
   "metadata": {},
   "source": [
    "# Dempster-Shafer Inference Algorithm"
   ]
  },
  {
   "cell_type": "code",
   "execution_count": 21,
   "metadata": {},
   "outputs": [],
   "source": [
    "from config import *\n",
    "from DS import DempsterShafer\n",
    "from process_data import DataProcessor\n",
    "from datetime import datetime\n",
    "import os\n",
    "import time\n",
    "import pandas as pd\n",
    "import numpy as np\n"
   ]
  },
  {
   "cell_type": "markdown",
   "metadata": {},
   "source": [
    "## Download data"
   ]
  },
  {
   "cell_type": "code",
   "execution_count": 22,
   "metadata": {},
   "outputs": [],
   "source": [
    "\n",
    "\n",
    "data_process_day = datetime(2024, 4, 8)\n",
    "process_day = data_process_day.strftime('%Y%m%d')\n"
   ]
  },
  {
   "cell_type": "code",
   "execution_count": 23,
   "metadata": {},
   "outputs": [],
   "source": [
    "filename_pattern = f\"{process_day}_UTS{{}}\"\n",
    "csv_file_dir = f\"data/{process_day}/raw\"\n",
    "csv_file_pattern = f\"{process_day}_UTS{{}}.csv\"  # Replace with the pattern for your file names\n",
    "data_processor = DataProcessor(csv_file_dir, csv_file_pattern, selected_headers)\n",
    "csv_data = data_processor.process_files(start=1, end=5)\n"
   ]
  },
  {
   "cell_type": "markdown",
   "metadata": {},
   "source": [
    "## Process data"
   ]
  },
  {
   "cell_type": "code",
   "execution_count": 24,
   "metadata": {},
   "outputs": [],
   "source": [
    "start_time_sampling = convert_to_unix(\"08-04-2024 02:30:00\")\n",
    "end_time_sampling = convert_to_unix(\"08-04-2024 03:30:00\")\n",
    "\n",
    "start_time_feat_normal = \"08-04-2024 00:00:00\"\n",
    "end_time_feat_normal = \"08-04-2024 01:00:00\"\n",
    "\n",
    "start_time_feat_fault = \"08-04-2024 01:40:00\"\n",
    "end_time_feat_fault = \"08-04-2024 01:50:00\""
   ]
  },
  {
   "cell_type": "markdown",
   "metadata": {},
   "source": [
    "### Sampling data"
   ]
  },
  {
   "cell_type": "markdown",
   "metadata": {},
   "source": [
    "#### Resample data"
   ]
  },
  {
   "cell_type": "code",
   "execution_count": 25,
   "metadata": {},
   "outputs": [],
   "source": [
    "#\n",
    "\n",
    "resampled_data = {}\n",
    "# Loop through all sensors to process their raw csv data\n",
    "for sensor_order in range(1, num_sensors + 1):\n",
    "    filename = filename_pattern.format(sensor_order)\n",
    "    combined_data = csv_data[filename]\n",
    "    # print(\"Combined Data\", (combined_data))\n",
    "    # Convert the 'UTCDateTime' column to datetime format\n",
    "    combined_data[\"date_time_utc\"] = pd.to_datetime(combined_data[\"date_time_utc\"])\n",
    "\n",
    "    # Set 'UTCDateTime' as the index\n",
    "    combined_data.set_index(\"date_time_utc\", inplace=True)\n",
    "\n",
    "    # Resample data to 2-minute frequency\n",
    "    resampled_values = (\n",
    "        combined_data[parameter_headers]\n",
    "        .resample(\"2min\")\n",
    "        .bfill(limit=1)\n",
    "        .round(3)\n",
    "        .fillna(0)\n",
    "    )\n",
    "    # print(\"Resampled Values\", resampled_values)\n",
    "    # print(combined_data.drop(parameter_headers,axis=1))\n",
    "    concat_data = pd.concat(\n",
    "        [\n",
    "            combined_data.drop(parameter_headers, axis=1).resample(\"2min\").bfill(),\n",
    "            resampled_values,\n",
    "        ],\n",
    "        axis=1,\n",
    "    )\n",
    "\n",
    "    # Backward fill other columns\n",
    "    resampled_data[filename] = concat_data\n",
    "    output_folder = os.path.join(\n",
    "        \"data\", process_day, \"processed\"\n",
    "    )\n",
    "    os.makedirs(output_folder, exist_ok=True)\n",
    "    resampled_data[filename].to_csv(os.path.join(output_folder, f\"{filename}\"))"
   ]
  },
  {
   "cell_type": "markdown",
   "metadata": {},
   "source": [
    "#### Sampling data"
   ]
  },
  {
   "cell_type": "code",
   "execution_count": 26,
   "metadata": {},
   "outputs": [
    {
     "name": "stdout",
     "output_type": "stream",
     "text": [
      "Indexes DatetimeIndex(['2024-04-07 16:30:00+00:00', '2024-04-07 16:32:00+00:00',\n",
      "               '2024-04-07 16:34:00+00:00', '2024-04-07 16:36:00+00:00',\n",
      "               '2024-04-07 16:38:00+00:00', '2024-04-07 16:40:00+00:00',\n",
      "               '2024-04-07 16:42:00+00:00', '2024-04-07 16:44:00+00:00',\n",
      "               '2024-04-07 16:46:00+00:00', '2024-04-07 16:48:00+00:00',\n",
      "               '2024-04-07 16:50:00+00:00', '2024-04-07 16:52:00+00:00',\n",
      "               '2024-04-07 16:54:00+00:00', '2024-04-07 16:56:00+00:00',\n",
      "               '2024-04-07 16:58:00+00:00', '2024-04-07 17:00:00+00:00',\n",
      "               '2024-04-07 17:02:00+00:00', '2024-04-07 17:04:00+00:00',\n",
      "               '2024-04-07 17:06:00+00:00', '2024-04-07 17:08:00+00:00',\n",
      "               '2024-04-07 17:10:00+00:00', '2024-04-07 17:12:00+00:00',\n",
      "               '2024-04-07 17:14:00+00:00', '2024-04-07 17:16:00+00:00',\n",
      "               '2024-04-07 17:18:00+00:00', '2024-04-07 17:20:00+00:00',\n",
      "               '2024-04-07 17:22:00+00:00', '2024-04-07 17:24:00+00:00',\n",
      "               '2024-04-07 17:26:00+00:00', '2024-04-07 17:28:00+00:00'],\n",
      "              dtype='datetime64[ns, UTC]', name='date_time_utc', freq='2min')\n"
     ]
    }
   ],
   "source": [
    "\n",
    "sampling_data = {}\n",
    "\n",
    "for key, value in resampled_data.items():\n",
    "    sampling_data[key] = value[parameter_headers][\n",
    "        (value[time_header] > start_time_sampling)\n",
    "        & (value[time_header] < end_time_sampling)\n",
    "    ]\n",
    "\n",
    "# print(\"Sampling Data\", sampling_data)\n",
    "first_key = list(sampling_data.keys())[0]\n",
    "first_value = sampling_data[first_key]\n",
    "indexes = first_value.index\n",
    "print(\"Indexes\", indexes)\n"
   ]
  },
  {
   "cell_type": "markdown",
   "metadata": {},
   "source": [
    "### Feature matrix"
   ]
  },
  {
   "cell_type": "markdown",
   "metadata": {},
   "source": [
    "#### Normal operation"
   ]
  },
  {
   "cell_type": "code",
   "execution_count": 27,
   "metadata": {},
   "outputs": [
    {
     "name": "stdout",
     "output_type": "stream",
     "text": [
      "Feature Matrix Normal [43.         88.87083333  2.87879167  2.435       4.00979167]\n"
     ]
    }
   ],
   "source": [
    "\n",
    "normal_operation_data = {}\n",
    "for key, value in resampled_data.items():\n",
    "    normal_operation_data[key] = value[parameter_headers][\n",
    "        (value[time_header] > convert_to_unix(start_time_feat_normal))\n",
    "        & (value[time_header] < convert_to_unix(end_time_feat_normal))\n",
    "    ]\n",
    "    # print(normal_operation_data)\n",
    "mean_normal_operation_data = {\n",
    "    key: value.mean(axis=0).to_frame().T for key, value in normal_operation_data.items()\n",
    "}\n",
    "\n",
    "# Concatenate all DataFrames into a single DataFrame\n",
    "concatenated_df = pd.DataFrame()\n",
    "for key, value in mean_normal_operation_data.items():\n",
    "    concatenated_df = pd.concat([concatenated_df, value], ignore_index=True)\n",
    "# print(\"Concatenated Data\", concatenated_df)\n",
    "# Compute the mean for each column\n",
    "mean_concatenated_df = concatenated_df.mean()\n",
    "# print(mean_concatenated_df)\n",
    "feat_mat_normal = mean_concatenated_df.to_numpy()\n",
    "print(\"Feature Matrix Normal\", feat_mat_normal)"
   ]
  },
  {
   "cell_type": "markdown",
   "metadata": {},
   "source": [
    "#### Faulty operation"
   ]
  },
  {
   "cell_type": "code",
   "execution_count": 28,
   "metadata": {},
   "outputs": [
    {
     "name": "stdout",
     "output_type": "stream",
     "text": [
      "First Value                            humidity  temperature  pm1.0_atm  pm2.5_alt  \\\n",
      "date_time_utc                                                            \n",
      "2024-04-07 15:40:00+00:00      23.0        110.0      0.975        1.4   \n",
      "2024-04-07 15:42:00+00:00      22.5        111.0      0.675        1.3   \n",
      "2024-04-07 15:44:00+00:00      22.0        112.0      0.525        1.4   \n",
      "2024-04-07 15:46:00+00:00      21.5        112.5      0.420        1.4   \n",
      "2024-04-07 15:48:00+00:00      21.0        113.0      0.285        1.4   \n",
      "\n",
      "                           pm10.0_atm  \n",
      "date_time_utc                          \n",
      "2024-04-07 15:40:00+00:00       1.335  \n",
      "2024-04-07 15:42:00+00:00       0.870  \n",
      "2024-04-07 15:44:00+00:00       1.350  \n",
      "2024-04-07 15:46:00+00:00       1.010  \n",
      "2024-04-07 15:48:00+00:00       1.100  \n",
      "Feature Matrix Fault [ 22.    111.7     0.576   1.38    1.133]\n"
     ]
    }
   ],
   "source": [
    "\n",
    "\n",
    "fault_operation_data = {}\n",
    "for key, value in resampled_data.items():\n",
    "    fault_operation_data[key] = value[parameter_headers][\n",
    "        (value[time_header] > convert_to_unix(start_time_feat_fault))\n",
    "        & (value[time_header] < convert_to_unix(end_time_feat_fault))\n",
    "    ]\n",
    "    # print(fault_operation_data)\n",
    "first_key = list(fault_operation_data.keys())[0]\n",
    "first_value = fault_operation_data[first_key]\n",
    "print(\"First Value\", first_value)\n",
    "average_value = first_value.mean(axis=0).to_numpy()\n",
    "\n",
    "feat_mat_fault_heat = average_value\n",
    "print(\"Feature Matrix Fault\", feat_mat_fault_heat)\n"
   ]
  },
  {
   "cell_type": "code",
   "execution_count": 29,
   "metadata": {},
   "outputs": [],
   "source": [
    "# Loss of communication\n",
    "feat_mat_fault_com = np.zeros((1, len(parameter_headers)))\n"
   ]
  },
  {
   "cell_type": "markdown",
   "metadata": {},
   "source": [
    "### Final feature matrix"
   ]
  },
  {
   "cell_type": "code",
   "execution_count": 30,
   "metadata": {},
   "outputs": [
    {
     "name": "stdout",
     "output_type": "stream",
     "text": [
      "Feature matrix:  [[ 43.          88.87083333   2.87879167   2.435        4.00979167]\n",
      " [ 22.         111.7          0.576        1.38         1.133     ]]\n",
      "Shape of Feature matrix:  2\n"
     ]
    }
   ],
   "source": [
    "feat_mat = np.vstack(\n",
    "    [\n",
    "        feat_mat_normal,\n",
    "        feat_mat_fault_heat,\n",
    "        # feat_mat_fault_com,\n",
    "    ]\n",
    ")\n",
    "print(\"Feature matrix: \", feat_mat)\n",
    "print(\"Shape of Feature matrix: \", feat_mat.shape[0])"
   ]
  },
  {
   "cell_type": "markdown",
   "metadata": {},
   "source": [
    "## DSI"
   ]
  },
  {
   "cell_type": "markdown",
   "metadata": {},
   "source": [
    "### Initialization"
   ]
  },
  {
   "cell_type": "code",
   "execution_count": 31,
   "metadata": {},
   "outputs": [
    {
     "name": "stdout",
     "output_type": "stream",
     "text": [
      "['N0', 'F_H', 'F_X']\n"
     ]
    }
   ],
   "source": [
    "\n",
    "\n",
    "DSI_hypotheses = [\n",
    "    hypotheses[\"Normal\"][\"Average Normal\"],\n",
    "    hypotheses[\"Overheat\"],\n",
    "    hypotheses[\"Uncertain\"]\n",
    "]\n",
    "\n",
    "sampling_freq = [1]\n",
    "print(DSI_hypotheses)\n"
   ]
  },
  {
   "cell_type": "markdown",
   "metadata": {},
   "source": [
    "### Execution"
   ]
  },
  {
   "cell_type": "code",
   "execution_count": 32,
   "metadata": {},
   "outputs": [
    {
     "name": "stdout",
     "output_type": "stream",
     "text": [
      "Sampling Matrix [[41.5   88.5    2.095  1.8    2.74 ]]\n",
      "Sampling Matrix [[42.    88.5    1.755  1.7    2.385]]\n",
      "Sampling Matrix [[41.5  88.5   1.83  1.6   2.12]]\n",
      "Sampling Matrix [[41.5  88.5   1.46  1.6   2.2 ]]\n",
      "Sampling Matrix [[42.    88.5    1.705  1.5    2.155]]\n",
      "Sampling Matrix [[42.    88.5    1.595  1.8    2.11 ]]\n",
      "Sampling Matrix [[42.    88.5    1.72   1.6    2.115]]\n",
      "Sampling Matrix [[42.    88.5    1.47   1.7    2.185]]\n",
      "Sampling Matrix [[38.5   93.     0.82   1.6    1.635]]\n",
      "Sampling Matrix [[0. 0. 0. 0. 0.]]\n",
      "Sampling Matrix [[34.5   96.     0.725  1.4    1.275]]\n",
      "Sampling Matrix [[32.    99.     0.945  1.5    1.395]]\n",
      "Sampling Matrix [[ 30.    101.      0.74    1.4     1.175]]\n",
      "Sampling Matrix [[ 28.    103.      0.765   1.4     1.22 ]]\n",
      "Sampling Matrix [[ 27.    104.      0.67    1.3     1.075]]\n",
      "Sampling Matrix [[ 25.5   106.      0.495   1.4     1.195]]\n",
      "Sampling Matrix [[ 24.    108.      0.515   1.3     0.945]]\n",
      "Sampling Matrix [[ 23.    109.5     0.66    1.4     1.125]]\n",
      "Sampling Matrix [[ 22.    111.      0.405   1.3     0.915]]\n",
      "Sampling Matrix [[2.15e+01 1.12e+02 6.50e-02 1.10e+00 5.75e-01]]\n",
      "Sampling Matrix [[ 20.5   113.      0.245   1.2     0.475]]\n",
      "Sampling Matrix [[ 20.    111.5     0.125   1.1     0.4  ]]\n",
      "Sampling Matrix [[ 22.5   107.5     0.57    1.3     1.195]]\n",
      "Sampling Matrix [[ 24.    104.5     0.885   1.2     0.985]]\n",
      "Sampling Matrix [[ 26.    103.      0.565   1.2     1.14 ]]\n",
      "Sampling Matrix [[29.   99.5   0.56  1.1   0.94]]\n",
      "Sampling Matrix [[31.5   96.5    0.85   1.3    1.495]]\n",
      "Sampling Matrix [[34.   93.5   0.89  1.3   1.4 ]]\n",
      "Sampling Matrix [[36.5  91.5   1.13  1.3   1.55]]\n",
      "Sampling Matrix [[38.5  90.    1.36  1.2   1.68]]\n",
      "20240408_UTS1_1           N0       F_H       F_X\n",
      "0   0.623877  0.066467  0.309657\n",
      "1   0.651009  0.079407  0.269584\n",
      "2   0.548060  0.097077  0.354863\n",
      "3   0.536151  0.102862  0.360987\n",
      "4   0.579911  0.116863  0.303226\n",
      "5   0.647545  0.082014  0.270441\n",
      "6   0.599577  0.094543  0.305880\n",
      "7   0.620096  0.089023  0.290881\n",
      "8   0.022004  0.034466  0.943530\n",
      "9   0.024498  0.055359  0.920142\n",
      "10  0.059934  0.643604  0.296461\n",
      "11  0.060847  0.232966  0.706186\n",
      "12  0.027703  0.824027  0.148271\n",
      "13  0.034039  0.699562  0.266398\n",
      "14  0.032894  0.639532  0.327574\n",
      "15  0.020997  0.685674  0.293329\n",
      "16  0.015224  0.253405  0.731371\n",
      "17  0.006376  0.543871  0.449753\n",
      "18  0.009515  0.184374  0.806111\n",
      "19  0.021495  0.581401  0.397104\n",
      "20  0.012851  0.136653  0.850496\n",
      "21  0.022412  0.503233  0.474355\n",
      "22  0.007204  0.811404  0.181392\n",
      "23  0.030901  0.269523  0.699576\n",
      "24  0.004406  0.963388  0.032206\n",
      "25  0.033945  0.765576  0.200479\n",
      "26  0.066029  0.272874  0.661097\n",
      "27  0.072077  0.231975  0.695948\n",
      "28  0.083684  0.150165  0.766151\n",
      "29  0.161196  0.119628  0.719176\n"
     ]
    },
    {
     "name": "stderr",
     "output_type": "stream",
     "text": [
      "c:\\Users\\13993807_admin\\OneDrive - UTS\\HDR\\Papers\\Dependability\\Coding\\sensor-reliability\\DS.py:82: RuntimeWarning: divide by zero encountered in divide\n",
      "  probability = 1.0 / distance_matrix\n",
      "c:\\Users\\13993807_admin\\OneDrive - UTS\\HDR\\Papers\\Dependability\\Coding\\sensor-reliability\\DS.py:84: RuntimeWarning: invalid value encountered in divide\n",
      "  normalised_probability = probability / sum_probability\n"
     ]
    }
   ],
   "source": [
    "from itertools import islice\n",
    "\n",
    "DSI_results = {}\n",
    "\n",
    "for sensor, data in islice(sampling_data.items(), 1):\n",
    "    # print(\"AA\", sensor)\n",
    "    # print(data)\n",
    "    for freq in sampling_freq:\n",
    "        DSI_results[f\"{sensor}_{freq}\"] = pd.DataFrame()  # Adjusted to include freq in key\n",
    "        for i in range(0, len(data), freq):\n",
    "            if i + freq > len(data):  # Check to avoid index out of range\n",
    "                break\n",
    "            sampling_rows = data[i:i+freq]  # Select the desired number of rows based on freq\n",
    "            # sampling_mat = sampling_rows.reshape((freq, len(parameter_headers)))  # Adjust reshape according to freq\n",
    "            sampling_mat = sampling_rows.to_numpy()\n",
    "            print(\"Sampling Matrix\", sampling_mat)\n",
    "            ds = DempsterShafer(sampling_mat, feat_mat)\n",
    "            ds.hypothesis_order(DSI_hypotheses)\n",
    "            reliability = ds.result()\n",
    "            \n",
    "            # Concatenate the reliability results for the current freq to its DataFrame\n",
    "            DSI_results[f\"{sensor}_{freq}\"] = pd.concat([DSI_results[f\"{sensor}_{freq}\"], reliability], axis=0, ignore_index=True)\n",
    "\n",
    "# print(\"AB\", DSI_results['20240316_UTS1'])\n",
    "first_key = list(DSI_results.keys())[0]\n",
    "first_value = DSI_results[first_key]\n",
    "print(first_key, first_value)\n",
    "\n"
   ]
  },
  {
   "cell_type": "markdown",
   "metadata": {},
   "source": [
    "# Result visualization"
   ]
  },
  {
   "cell_type": "code",
   "execution_count": 33,
   "metadata": {},
   "outputs": [],
   "source": [
    "import matplotlib.pyplot as plt\n",
    "import matplotlib.dates as mdates\n",
    "import seaborn as sns\n",
    "from utilities.plot_functions import *\n"
   ]
  },
  {
   "cell_type": "markdown",
   "metadata": {},
   "source": [
    "## Prepare result"
   ]
  },
  {
   "cell_type": "code",
   "execution_count": 34,
   "metadata": {},
   "outputs": [],
   "source": [
    "\n",
    "\n",
    "# Prepare data for normal operation reliability plot\n",
    "# reliability_comparison = pd.DataFrame() \n",
    "# print(reliability_comparison)\n",
    "# for i, (sensor, data) in enumerate(DSI_results.items()):\n",
    "#     print(\"AA\", sensor)\n",
    "#     reliability_comparison = pd.concat([reliability_comparison, data.iloc[:, 0]], axis=1)\n",
    "#     reliability_comparison = reliability_comparison.rename(columns={reliability_comparison.columns[-1]: f'S{i+1}'})\n",
    "\n",
    "# reliability_comparison = reliability_comparison.set_index(indexes[0])\n",
    "# reliability_comparison['Highest Reliability'] = reliability_comparison.idxmax(axis=1)\n",
    "# print(reliability_comparison)\n"
   ]
  },
  {
   "cell_type": "markdown",
   "metadata": {},
   "source": [
    "## Reliability probability"
   ]
  },
  {
   "cell_type": "markdown",
   "metadata": {},
   "source": [
    "### Initialization"
   ]
  },
  {
   "cell_type": "code",
   "execution_count": 35,
   "metadata": {},
   "outputs": [],
   "source": [
    "\n",
    "\n",
    "sensor_colors = {\"S1\": \"blue\", \"S2\": \"orange\", \"S3\": \"green\", \"S4\": \"red\"}\n",
    "# Define a color palette with 7 colors\n",
    "colors = sns.color_palette(\"Spectral\", n_colors=7)\n"
   ]
  },
  {
   "cell_type": "markdown",
   "metadata": {},
   "source": [
    "#### Stacked plot for probability assignment"
   ]
  },
  {
   "cell_type": "code",
   "execution_count": 36,
   "metadata": {},
   "outputs": [
    {
     "name": "stdout",
     "output_type": "stream",
     "text": [
      "20240408_UTS1_1\n",
      "{'20240408_UTS1_1':           N0       F_H       F_X\n",
      "0   0.623877  0.066467  0.309657\n",
      "1   0.651009  0.079407  0.269584\n",
      "2   0.548060  0.097077  0.354863\n",
      "3   0.536151  0.102862  0.360987\n",
      "4   0.579911  0.116863  0.303226\n",
      "5   0.647545  0.082014  0.270441\n",
      "6   0.599577  0.094543  0.305880\n",
      "7   0.620096  0.089023  0.290881\n",
      "8   0.022004  0.034466  0.943530\n",
      "9   0.024498  0.055359  0.920142\n",
      "10  0.059934  0.643604  0.296461\n",
      "11  0.060847  0.232966  0.706186\n",
      "12  0.027703  0.824027  0.148271\n",
      "13  0.034039  0.699562  0.266398\n",
      "14  0.032894  0.639532  0.327574\n",
      "15  0.020997  0.685674  0.293329\n",
      "16  0.015224  0.253405  0.731371\n",
      "17  0.006376  0.543871  0.449753\n",
      "18  0.009515  0.184374  0.806111\n",
      "19  0.021495  0.581401  0.397104\n",
      "20  0.012851  0.136653  0.850496\n",
      "21  0.022412  0.503233  0.474355\n",
      "22  0.007204  0.811404  0.181392\n",
      "23  0.030901  0.269523  0.699576\n",
      "24  0.004406  0.963388  0.032206\n",
      "25  0.033945  0.765576  0.200479\n",
      "26  0.066029  0.272874  0.661097\n",
      "27  0.072077  0.231975  0.695948\n",
      "28  0.083684  0.150165  0.766151\n",
      "29  0.161196  0.119628  0.719176}\n"
     ]
    },
    {
     "name": "stderr",
     "output_type": "stream",
     "text": [
      "C:\\Users\\13993807_admin\\AppData\\Local\\Temp\\ipykernel_15388\\1208599277.py:13: UserWarning: FigureCanvasAgg is non-interactive, and thus cannot be shown\n",
      "  fig.show()\n"
     ]
    },
    {
     "data": {
      "image/png": "[encoded data removed]",
      "text/plain": [
       "<Figure size 800x600 with 1 Axes>"
      ]
     },
     "metadata": {},
     "output_type": "display_data"
    }
   ],
   "source": [
    "# Create subplots\n",
    "fig, ax = plot_stacked_area_chart(DSI_results, indexes, colors, minute_locator=10)\n",
    "legend = ax.legend(\n",
    "    loc=\"center\",\n",
    "    bbox_to_anchor=(0.5, -0.12),\n",
    "    title=\"Hypotheses\",\n",
    "    ncols=len(DSI_hypotheses),\n",
    ")\n",
    "# Remove spaces between subplots\n",
    "# plt.subplots_adjust(hspace=0.2)\n",
    "\n",
    "# Show the plot\n",
    "fig.show()\n",
    "fig.savefig(\n",
    "    \"fig/Faults/Individual/S1/DSI_results_heat.png\",\n",
    "    bbox_extra_artists=(legend,),\n",
    "    bbox_inches=\"tight\",\n",
    ")"
   ]
  },
  {
   "cell_type": "markdown",
   "metadata": {},
   "source": [
    "#### Line graph for normal operation probability"
   ]
  },
  {
   "cell_type": "code",
   "execution_count": 37,
   "metadata": {},
   "outputs": [],
   "source": [
    "\n",
    "# Prepare data for normal operation reliability plot\n",
    "# reliability_comparison = pd.DataFrame() \n",
    "# print(reliability_comparison)\n",
    "# for i, (sensor, data) in enumerate(DSI_results.items()):\n",
    "#     print(\"AA\", sensor)\n",
    "#     reliability_comparison = pd.concat([reliability_comparison, data.iloc[:, 0]], axis=1)\n",
    "#     reliability_comparison = reliability_comparison.rename(columns={reliability_comparison.columns[-1]: f'S{i+1}'})\n",
    "\n",
    "# reliability_comparison = reliability_comparison.set_index(indexes[0])\n",
    "# reliability_comparison['Highest Reliability'] = reliability_comparison.idxmax(axis=1)\n",
    "# print(reliability_comparison)\n"
   ]
  },
  {
   "cell_type": "code",
   "execution_count": 38,
   "metadata": {},
   "outputs": [],
   "source": [
    "# Plot the reliability comparison\n",
    "# fig, ax = plot_line_graph_df(\n",
    "#     reliability_comparison,\n",
    "#     y_columns=reliability_comparison.columns[:-1],\n",
    "#     title=\"Reliability Comparison\",\n",
    "#     xlabel=\"Time\",\n",
    "#     ylabel=\"Reliability\",\n",
    "#     color=list(sensor_colors.values()),\n",
    "# )\n",
    "# # Modify the title using the Axes object\n",
    "# ax.set_title(\"Probability of normal operation in dependable system\")\n",
    "# ax.legend(loc=\"upper right\", ncol=1)\n",
    "# fig.show()\n",
    "# fig.savefig(\"fig/modified_figure.png\")"
   ]
  },
  {
   "cell_type": "markdown",
   "metadata": {},
   "source": [
    "#### Line graph for continuous data flow"
   ]
  },
  {
   "cell_type": "code",
   "execution_count": 39,
   "metadata": {},
   "outputs": [],
   "source": [
    "# Prepare data for continuous data flow\n"
   ]
  },
  {
   "cell_type": "code",
   "execution_count": 40,
   "metadata": {},
   "outputs": [
    {
     "name": "stderr",
     "output_type": "stream",
     "text": [
      "C:\\Users\\13993807_admin\\AppData\\Local\\Temp\\ipykernel_15388\\1533155204.py:14: UserWarning: FigureCanvasAgg is non-interactive, and thus cannot be shown\n",
      "  fig.show()\n"
     ]
    },
    {
     "data": {
      "image/png": "[encoded data removed]",
      "text/plain": [
       "<Figure size 640x480 with 1 Axes>"
      ]
     },
     "metadata": {},
     "output_type": "display_data"
    }
   ],
   "source": [
    "\n",
    "\n",
    "contData = pd.DataFrame()\n",
    "\n",
    "figContinuos, axContinuos = plot_line_graph_df(\n",
    "    contData,\n",
    "    y_columns=contData.columns[:-1],\n",
    "    title=\"Reliability Comparison\",\n",
    "    xlabel=\"Time\",\n",
    "    ylabel=\"Reliability\",\n",
    "    color=list(sensor_colors.values()),\n",
    ")\n",
    "# Modify the title using the Axes object\n",
    "ax.set_title(\"Probability of normal operation in dependable system\")\n",
    "ax.legend(loc=\"upper right\", ncol=1)\n",
    "fig.show()\n",
    "fig.savefig(\"fig/DSI_continuous_data.png\")\n",
    "\n"
   ]
  }
 ],
 "metadata": {
  "kernelspec": {
   "display_name": "Python 3",
   "language": "python",
   "name": "python3"
  },
  "language_info": {
   "codemirror_mode": {
    "name": "ipython",
    "version": 3
   },
   "file_extension": ".py",
   "mimetype": "text/x-python",
   "name": "python",
   "nbconvert_exporter": "python",
   "pygments_lexer": "ipython3",
   "version": "3.9.12"
  }
 },
 "nbformat": 4,
 "nbformat_minor": 2
}
